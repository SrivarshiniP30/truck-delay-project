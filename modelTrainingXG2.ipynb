{
 "cells": [
  {
   "cell_type": "code",
   "execution_count": 1,
   "metadata": {},
   "outputs": [],
   "source": [
    "import pandas as pd\n",
    "from sklearn.model_selection import train_test_split, RandomizedSearchCV\n",
    "import xgboost as xgb\n",
    "import numpy as np\n",
    "from sklearn.metrics import accuracy_score\n",
    "import mlflow\n",
    "\n"
   ]
  },
  {
   "cell_type": "code",
   "execution_count": 2,
   "metadata": {},
   "outputs": [],
   "source": [
    "df=pd.read_csv('final_data2.csv')"
   ]
  },
  {
   "cell_type": "code",
   "execution_count": 3,
   "metadata": {},
   "outputs": [],
   "source": [
    "# Features and target\n",
    "X = df.drop(columns=['delay'])  # Drop the target column\n",
    "y = df['delay']                 # Target variable\n",
    "\n",
    "# Train-test split\n",
    "X_train, X_test, y_train, y_test = train_test_split(X, y, test_size=0.2, random_state=42)\n"
   ]
  },
  {
   "cell_type": "code",
   "execution_count": 4,
   "metadata": {},
   "outputs": [
    {
     "name": "stdout",
     "output_type": "stream",
     "text": [
      "Fitting 3 folds for each of 20 candidates, totalling 60 fits\n"
     ]
    },
    {
     "name": "stderr",
     "output_type": "stream",
     "text": [
      "2025/01/08 22:06:59 WARNING mlflow.models.model: Model logged without a signature and input example. Please set `input_example` parameter when logging the model to auto infer the model signature.\n"
     ]
    }
   ],
   "source": [
    "# Define the XGBoost model\n",
    "xgb_model = xgb.XGBClassifier(random_state=42)\n",
    "\n",
    "# Define the parameter grid\n",
    "param_dist = {\n",
    "    'n_estimators': [100, 200, 500],  # Number of trees\n",
    "    'learning_rate': [0.01, 0.05, 0.1],  # Learning rate\n",
    "    'max_depth': [3, 6, 10],  # Depth of trees\n",
    "    'min_child_weight': [1, 5, 10],  # Minimum sum of instance weight in a child\n",
    "    'subsample': [0.7, 0.8, 1.0],  # Fraction of samples for fitting\n",
    "    'colsample_bytree': [0.7, 0.8, 1.0],  # Fraction of features for each tree\n",
    "}\n",
    "# RandomizedSearchCV with a reduced parameter grid\n",
    "random_search = RandomizedSearchCV(\n",
    "    estimator=xgb_model,\n",
    "    param_distributions=param_dist,\n",
    "    n_iter=20,  # Number of iterations (reduce to make it faster)\n",
    "    cv=3,  # Number of cross-validation folds\n",
    "    random_state=42,\n",
    "    n_jobs=-1,  # Use all CPU cores\n",
    "    verbose=1\n",
    ")\n",
    "mlflow.set_experiment(\"Truck Delay prediction\")\n",
    "with mlflow.start_run():\n",
    "    random_search.fit(X_train, y_train)\n",
    "    \n",
    "    best_params = random_search.best_params_\n",
    "    best_model = random_search.best_estimator_\n",
    "    mlflow.log_param(\"n_estimators\", best_params['n_estimators'])\n",
    "    mlflow.log_param(\"learning_rate\",best_params['learning_rate'])\n",
    "    mlflow.log_param(\"max_depth\",best_params['max_depth'])\n",
    "    mlflow.log_param(\"min_child_weight\",best_params['min_child_weight'])\n",
    "    mlflow.log_param(\"min_child_weight\",best_params['min_child_weight'])\n",
    "    mlflow.log_param(\"subsample\",best_params['subsample'])\n",
    "    mlflow.log_param(\"colsample_bytree\",best_params['colsample_bytree'])\n",
    "\n",
    "\n",
    "\n",
    "    # Evaluate the best model on test data\n",
    "    y_pred = best_model.predict(X_test)\n",
    "    xg_reg_accuracy = accuracy_score(y_test, y_pred)\n",
    "    \n",
    "\n",
    "    mlflow.log_metric(\"xg_reg_accuracy\",xg_reg_accuracy)\n",
    "    mlflow.sklearn.log_model(best_model,\"XG Boost model\") # model, foldername"
   ]
  },
  {
   "cell_type": "code",
   "execution_count": 5,
   "metadata": {},
   "outputs": [
    {
     "name": "stdout",
     "output_type": "stream",
     "text": [
      "[[1552  100]\n",
      " [ 347  523]]\n",
      "              precision    recall  f1-score   support\n",
      "\n",
      "           0       0.82      0.94      0.87      1652\n",
      "           1       0.84      0.60      0.70       870\n",
      "\n",
      "    accuracy                           0.82      2522\n",
      "   macro avg       0.83      0.77      0.79      2522\n",
      "weighted avg       0.82      0.82      0.81      2522\n",
      "\n"
     ]
    }
   ],
   "source": [
    "from sklearn.metrics import classification_report, confusion_matrix,regression_matrix\n",
    "print(confusion_matrix(y_test, y_pred))\n",
    "print(classification_report(y_test, y_pred))"
   ]
  },
  {
   "cell_type": "code",
   "execution_count": 10,
   "metadata": {},
   "outputs": [
    {
     "name": "stdout",
     "output_type": "stream",
     "text": [
      "delay\n",
      "0    1652\n",
      "1     870\n",
      "Name: count, dtype: int64\n",
      "delay\n",
      "0    6588\n",
      "1    3497\n",
      "Name: count, dtype: int64\n"
     ]
    }
   ],
   "source": [
    "print(y_test.value_counts())\n",
    "print(y_train.value_counts())"
   ]
  },
  {
   "cell_type": "code",
   "execution_count": 12,
   "metadata": {},
   "outputs": [
    {
     "name": "stdout",
     "output_type": "stream",
     "text": [
      "34.67526028755577\n"
     ]
    }
   ],
   "source": [
    "print(\"delay percentage in train data:\",3497/(3497+6588) *100)"
   ]
  },
  {
   "cell_type": "code",
   "execution_count": 15,
   "metadata": {},
   "outputs": [
    {
     "name": "stderr",
     "output_type": "stream",
     "text": [
      "c:\\AIML\\mlEnv\\mlEnv\\Lib\\site-packages\\xgboost\\core.py:158: UserWarning: [19:55:26] WARNING: C:\\buildkite-agent\\builds\\buildkite-windows-cpu-autoscaling-group-i-0015a694724fa8361-1\\xgboost\\xgboost-ci-windows\\src\\learner.cc:740: \n",
      "Parameters: { \"class_weight\" } are not used.\n",
      "\n",
      "  warnings.warn(smsg, UserWarning)\n"
     ]
    },
    {
     "name": "stdout",
     "output_type": "stream",
     "text": [
      "              precision    recall  f1-score   support\n",
      "\n",
      "           0       0.80      0.91      0.85      1652\n",
      "           1       0.77      0.58      0.66       870\n",
      "\n",
      "    accuracy                           0.80      2522\n",
      "   macro avg       0.79      0.75      0.76      2522\n",
      "weighted avg       0.79      0.80      0.79      2522\n",
      "\n"
     ]
    }
   ],
   "source": [
    "model2 = xgb.XGBClassifier(class_weight='balanced')\n",
    "model2.fit(X_train, y_train) \n",
    "y_pred3 = model2.predict(X_test)\n",
    "print(classification_report(y_test,y_pred3))"
   ]
  },
  {
   "cell_type": "code",
   "execution_count": 16,
   "metadata": {},
   "outputs": [
    {
     "name": "stdout",
     "output_type": "stream",
     "text": [
      "Mean Absolute Error: 0.17724028548770818\n"
     ]
    }
   ],
   "source": [
    "from sklearn.metrics import mean_absolute_error\n",
    "mae = mean_absolute_error(y_test, y_pred)\n",
    "print(\"Mean Absolute Error:\", mae)\n"
   ]
  },
  {
   "cell_type": "code",
   "execution_count": 18,
   "metadata": {},
   "outputs": [
    {
     "name": "stdout",
     "output_type": "stream",
     "text": [
      "T-statistic: 186.49695574081986\n",
      "P-value: 0.0\n"
     ]
    }
   ],
   "source": [
    "from scipy import stats\n",
    "\n",
    "t_stat, p_value = stats.ttest_ind(df['distance'],df['delay'])\n",
    "\n",
    "print(f\"T-statistic: {t_stat}\")\n",
    "print(f\"P-value: {p_value}\")"
   ]
  },
  {
   "cell_type": "code",
   "execution_count": 22,
   "metadata": {},
   "outputs": [
    {
     "data": {
      "image/png": "[encoded data removed]",
      "text/plain": [
       "<Figure size 640x480 with 1 Axes>"
      ]
     },
     "metadata": {},
     "output_type": "display_data"
    }
   ],
   "source": [
    "import matplotlib.pyplot as plt\n",
    "plt.scatter(df['distance'], df['delay']) \n",
    "plt.xlabel('distance') \n",
    "plt.ylabel('delay') \n",
    "plt.title('Scatter Plot of distance vs delay') \n",
    "plt.show()"
   ]
  },
  {
   "cell_type": "code",
   "execution_count": 23,
   "metadata": {},
   "outputs": [
    {
     "name": "stdout",
     "output_type": "stream",
     "text": [
      "T-statistic: 0.0\n",
      "P-value: 1.0\n"
     ]
    },
    {
     "data": {
      "image/png": "[encoded data removed]",
      "text/plain": [
       "<Figure size 640x480 with 1 Axes>"
      ]
     },
     "metadata": {},
     "output_type": "display_data"
    }
   ],
   "source": [
    "t_stat, p_value = stats.ttest_ind(df['delay'],df['delay'])\n",
    "\n",
    "print(f\"T-statistic: {t_stat}\")\n",
    "print(f\"P-value: {p_value}\")\n",
    "\n",
    "plt.scatter(df['delay'], df['delay']) \n",
    "plt.xlabel('delay') \n",
    "plt.ylabel('delay') \n",
    "plt.title('Scatter Plot of delay vs delay') \n",
    "plt.show()"
   ]
  },
  {
   "cell_type": "code",
   "execution_count": 27,
   "metadata": {},
   "outputs": [
    {
     "name": "stdout",
     "output_type": "stream",
     "text": [
      "T-statistic: 182.80856080893452\n",
      "P-value: 0.0\n"
     ]
    },
    {
     "data": {
      "image/png": "[encoded data removed]",
      "text/plain": [
       "<Figure size 640x480 with 1 Axes>"
      ]
     },
     "metadata": {},
     "output_type": "display_data"
    }
   ],
   "source": [
    "t_stat, p_value = stats.ttest_ind(df['distance'],df['average_hours'])\n",
    "\n",
    "print(f\"T-statistic: {t_stat}\")\n",
    "print(f\"P-value: {p_value}\")\n",
    "\n",
    "plt.scatter(df['distance'], df['average_hours']) \n",
    "plt.xlabel('distance') \n",
    "plt.ylabel('average_hours') \n",
    "plt.title('Scatter Plot of distance vs average_hours') \n",
    "plt.show()"
   ]
  },
  {
   "cell_type": "code",
   "execution_count": 28,
   "metadata": {},
   "outputs": [
    {
     "name": "stdout",
     "output_type": "stream",
     "text": [
      "                                                   delay  truck_age  \\\n",
      "delay                                           1.000000   0.004318   \n",
      "truck_age                                       0.004318   1.000000   \n",
      "load_capacity_pounds                           -0.005983  -0.052392   \n",
      "mileage_mpg                                     0.011576  -0.030949   \n",
      "age                                             0.014841   0.017407   \n",
      "...                                                  ...        ...   \n",
      "city_description_y_Patchy sleet possible       -0.009170  -0.006326   \n",
      "city_description_y_Patchy snow possible        -0.011591  -0.008865   \n",
      "city_description_y_Sunny                       -0.073139  -0.002299   \n",
      "city_description_y_Thundery outbreaks possible  0.018989  -0.005000   \n",
      "city_description_y_Torrential rain shower      -0.009170  -0.006326   \n",
      "\n",
      "                                                load_capacity_pounds  \\\n",
      "delay                                                      -0.005983   \n",
      "truck_age                                                  -0.052392   \n",
      "load_capacity_pounds                                        1.000000   \n",
      "mileage_mpg                                                 0.024095   \n",
      "age                                                         0.008689   \n",
      "...                                                              ...   \n",
      "city_description_y_Patchy sleet possible                    0.003944   \n",
      "city_description_y_Patchy snow possible                     0.002817   \n",
      "city_description_y_Sunny                                   -0.008111   \n",
      "city_description_y_Thundery outbreaks possible              0.002431   \n",
      "city_description_y_Torrential rain shower                   0.014832   \n",
      "\n",
      "                                                mileage_mpg       age  \\\n",
      "delay                                              0.011576  0.014841   \n",
      "truck_age                                         -0.030949  0.017407   \n",
      "load_capacity_pounds                               0.024095  0.008689   \n",
      "mileage_mpg                                        1.000000  0.013594   \n",
      "age                                                0.013594  1.000000   \n",
      "...                                                     ...       ...   \n",
      "city_description_y_Patchy sleet possible           0.000865 -0.003353   \n",
      "city_description_y_Patchy snow possible            0.001918 -0.001350   \n",
      "city_description_y_Sunny                          -0.002731 -0.020809   \n",
      "city_description_y_Thundery outbreaks possible    -0.012831 -0.006568   \n",
      "city_description_y_Torrential rain shower          0.000865 -0.002021   \n",
      "\n",
      "                                                experience   ratings  \\\n",
      "delay                                             0.020238 -0.004296   \n",
      "truck_age                                         0.041317  0.024008   \n",
      "load_capacity_pounds                             -0.041598 -0.019520   \n",
      "mileage_mpg                                      -0.010707 -0.026720   \n",
      "age                                               0.580312  0.272863   \n",
      "...                                                    ...       ...   \n",
      "city_description_y_Patchy sleet possible         -0.009993 -0.000795   \n",
      "city_description_y_Patchy snow possible          -0.013870 -0.004864   \n",
      "city_description_y_Sunny                         -0.026551 -0.007452   \n",
      "city_description_y_Thundery outbreaks possible   -0.005133 -0.004041   \n",
      "city_description_y_Torrential rain shower        -0.000876  0.010940   \n",
      "\n",
      "                                                average_speed_mph  distance  \\\n",
      "delay                                                   -0.009152  0.294880   \n",
      "truck_age                                               -0.086791  0.015344   \n",
      "load_capacity_pounds                                    -0.004310 -0.015444   \n",
      "mileage_mpg                                              0.055202  0.000181   \n",
      "age                                                     -0.019620  0.019232   \n",
      "...                                                           ...       ...   \n",
      "city_description_y_Patchy sleet possible                 0.003802  0.005706   \n",
      "city_description_y_Patchy snow possible                  0.006675  0.005853   \n",
      "city_description_y_Sunny                                 0.012196 -0.074372   \n",
      "city_description_y_Thundery outbreaks possible          -0.000599 -0.020891   \n",
      "city_description_y_Torrential rain shower               -0.012403  0.029190   \n",
      "\n",
      "                                                average_hours  ...  \\\n",
      "delay                                                0.294881  ...   \n",
      "truck_age                                            0.015345  ...   \n",
      "load_capacity_pounds                                -0.015439  ...   \n",
      "mileage_mpg                                          0.000184  ...   \n",
      "age                                                  0.019234  ...   \n",
      "...                                                       ...  ...   \n",
      "city_description_y_Patchy sleet possible             0.005703  ...   \n",
      "city_description_y_Patchy snow possible              0.005854  ...   \n",
      "city_description_y_Sunny                            -0.074369  ...   \n",
      "city_description_y_Thundery outbreaks possible      -0.020890  ...   \n",
      "city_description_y_Torrential rain shower            0.029186  ...   \n",
      "\n",
      "                                                city_description_y_Patchy light rain  \\\n",
      "delay                                                                      -0.010619   \n",
      "truck_age                                                                   0.003435   \n",
      "load_capacity_pounds                                                       -0.015781   \n",
      "mileage_mpg                                                                -0.012770   \n",
      "age                                                                        -0.003101   \n",
      "...                                                                              ...   \n",
      "city_description_y_Patchy sleet possible                                   -0.000435   \n",
      "city_description_y_Patchy snow possible                                    -0.001476   \n",
      "city_description_y_Sunny                                                   -0.015668   \n",
      "city_description_y_Thundery outbreaks possible                             -0.000687   \n",
      "city_description_y_Torrential rain shower                                  -0.000435   \n",
      "\n",
      "                                                city_description_y_Patchy light rain with thunder  \\\n",
      "delay                                                                                    0.008135   \n",
      "truck_age                                                                                0.004749   \n",
      "load_capacity_pounds                                                                    -0.000707   \n",
      "mileage_mpg                                                                              0.013822   \n",
      "age                                                                                      0.009290   \n",
      "...                                                                                           ...   \n",
      "city_description_y_Patchy sleet possible                                                -0.000317   \n",
      "city_description_y_Patchy snow possible                                                 -0.001077   \n",
      "city_description_y_Sunny                                                                -0.011439   \n",
      "city_description_y_Thundery outbreaks possible                                          -0.000502   \n",
      "city_description_y_Torrential rain shower                                               -0.000317   \n",
      "\n",
      "                                                city_description_y_Patchy light snow  \\\n",
      "delay                                                                       0.018291   \n",
      "truck_age                                                                   0.006709   \n",
      "load_capacity_pounds                                                        0.015311   \n",
      "mileage_mpg                                                                 0.003932   \n",
      "age                                                                        -0.000310   \n",
      "...                                                                              ...   \n",
      "city_description_y_Patchy sleet possible                                   -0.001092   \n",
      "city_description_y_Patchy snow possible                                    -0.003705   \n",
      "city_description_y_Sunny                                                   -0.039345   \n",
      "city_description_y_Thundery outbreaks possible                             -0.001726   \n",
      "city_description_y_Torrential rain shower                                  -0.001092   \n",
      "\n",
      "                                                city_description_y_Patchy moderate snow  \\\n",
      "delay                                                                          0.029772   \n",
      "truck_age                                                                      0.004485   \n",
      "load_capacity_pounds                                                          -0.012187   \n",
      "mileage_mpg                                                                   -0.000399   \n",
      "age                                                                            0.012494   \n",
      "...                                                                                 ...   \n",
      "city_description_y_Patchy sleet possible                                      -0.000674   \n",
      "city_description_y_Patchy snow possible                                       -0.002288   \n",
      "city_description_y_Sunny                                                      -0.024292   \n",
      "city_description_y_Thundery outbreaks possible                                -0.001066   \n",
      "city_description_y_Torrential rain shower                                     -0.000674   \n",
      "\n",
      "                                                city_description_y_Patchy rain possible  \\\n",
      "delay                                                                         -0.011488   \n",
      "truck_age                                                                     -0.003857   \n",
      "load_capacity_pounds                                                           0.009421   \n",
      "mileage_mpg                                                                    0.019980   \n",
      "age                                                                            0.009682   \n",
      "...                                                                                 ...   \n",
      "city_description_y_Patchy sleet possible                                      -0.001446   \n",
      "city_description_y_Patchy snow possible                                       -0.004908   \n",
      "city_description_y_Sunny                                                      -0.052115   \n",
      "city_description_y_Thundery outbreaks possible                                -0.002287   \n",
      "city_description_y_Torrential rain shower                                     -0.001446   \n",
      "\n",
      "                                                city_description_y_Patchy sleet possible  \\\n",
      "delay                                                                          -0.009170   \n",
      "truck_age                                                                      -0.006326   \n",
      "load_capacity_pounds                                                            0.003944   \n",
      "mileage_mpg                                                                     0.000865   \n",
      "age                                                                            -0.003353   \n",
      "...                                                                                  ...   \n",
      "city_description_y_Patchy sleet possible                                        1.000000   \n",
      "city_description_y_Patchy snow possible                                        -0.000539   \n",
      "city_description_y_Sunny                                                       -0.005718   \n",
      "city_description_y_Thundery outbreaks possible                                 -0.000251   \n",
      "city_description_y_Torrential rain shower                                      -0.000159   \n",
      "\n",
      "                                                city_description_y_Patchy snow possible  \\\n",
      "delay                                                                         -0.011591   \n",
      "truck_age                                                                     -0.008865   \n",
      "load_capacity_pounds                                                           0.002817   \n",
      "mileage_mpg                                                                    0.001918   \n",
      "age                                                                           -0.001350   \n",
      "...                                                                                 ...   \n",
      "city_description_y_Patchy sleet possible                                      -0.000539   \n",
      "city_description_y_Patchy snow possible                                        1.000000   \n",
      "city_description_y_Sunny                                                      -0.019407   \n",
      "city_description_y_Thundery outbreaks possible                                -0.000852   \n",
      "city_description_y_Torrential rain shower                                     -0.000539   \n",
      "\n",
      "                                                city_description_y_Sunny  \\\n",
      "delay                                                          -0.073139   \n",
      "truck_age                                                      -0.002299   \n",
      "load_capacity_pounds                                           -0.008111   \n",
      "mileage_mpg                                                    -0.002731   \n",
      "age                                                            -0.020809   \n",
      "...                                                                  ...   \n",
      "city_description_y_Patchy sleet possible                       -0.005718   \n",
      "city_description_y_Patchy snow possible                        -0.019407   \n",
      "city_description_y_Sunny                                        1.000000   \n",
      "city_description_y_Thundery outbreaks possible                 -0.009042   \n",
      "city_description_y_Torrential rain shower                      -0.005718   \n",
      "\n",
      "                                                city_description_y_Thundery outbreaks possible  \\\n",
      "delay                                                                                 0.018989   \n",
      "truck_age                                                                            -0.005000   \n",
      "load_capacity_pounds                                                                  0.002431   \n",
      "mileage_mpg                                                                          -0.012831   \n",
      "age                                                                                  -0.006568   \n",
      "...                                                                                        ...   \n",
      "city_description_y_Patchy sleet possible                                             -0.000251   \n",
      "city_description_y_Patchy snow possible                                              -0.000852   \n",
      "city_description_y_Sunny                                                             -0.009042   \n",
      "city_description_y_Thundery outbreaks possible                                        1.000000   \n",
      "city_description_y_Torrential rain shower                                            -0.000251   \n",
      "\n",
      "                                                city_description_y_Torrential rain shower  \n",
      "delay                                                                           -0.009170  \n",
      "truck_age                                                                       -0.006326  \n",
      "load_capacity_pounds                                                             0.014832  \n",
      "mileage_mpg                                                                      0.000865  \n",
      "age                                                                             -0.002021  \n",
      "...                                                                                   ...  \n",
      "city_description_y_Patchy sleet possible                                        -0.000159  \n",
      "city_description_y_Patchy snow possible                                         -0.000539  \n",
      "city_description_y_Sunny                                                        -0.005718  \n",
      "city_description_y_Thundery outbreaks possible                                  -0.000251  \n",
      "city_description_y_Torrential rain shower                                        1.000000  \n",
      "\n",
      "[117 rows x 117 columns]\n"
     ]
    }
   ],
   "source": [
    "correlation_matrix = df.corr()\n",
    "\n",
    "print(correlation_matrix)"
   ]
  },
  {
   "cell_type": "code",
   "execution_count": 30,
   "metadata": {},
   "outputs": [
    {
     "name": "stdout",
     "output_type": "stream",
     "text": [
      "                                                   delay  truck_age  \\\n",
      "delay                                           1.000000   0.002251   \n",
      "truck_age                                       0.002251   1.000000   \n",
      "load_capacity_pounds                           -0.004844  -0.053501   \n",
      "mileage_mpg                                     0.012061  -0.032866   \n",
      "age                                             0.017450   0.029466   \n",
      "...                                                  ...        ...   \n",
      "city_description_y_Patchy sleet possible       -0.009170  -0.006408   \n",
      "city_description_y_Patchy snow possible        -0.011591  -0.011690   \n",
      "city_description_y_Sunny                       -0.073139  -0.005352   \n",
      "city_description_y_Thundery outbreaks possible  0.018989  -0.001892   \n",
      "city_description_y_Torrential rain shower      -0.009170  -0.004164   \n",
      "\n",
      "                                                load_capacity_pounds  \\\n",
      "delay                                                      -0.004844   \n",
      "truck_age                                                  -0.053501   \n",
      "load_capacity_pounds                                        1.000000   \n",
      "mileage_mpg                                                 0.005162   \n",
      "age                                                         0.010425   \n",
      "...                                                              ...   \n",
      "city_description_y_Patchy sleet possible                    0.007594   \n",
      "city_description_y_Patchy snow possible                     0.003852   \n",
      "city_description_y_Sunny                                   -0.005263   \n",
      "city_description_y_Thundery outbreaks possible              0.000448   \n",
      "city_description_y_Torrential rain shower                   0.014279   \n",
      "\n",
      "                                                mileage_mpg       age  \\\n",
      "delay                                              0.012061  0.017450   \n",
      "truck_age                                         -0.032866  0.029466   \n",
      "load_capacity_pounds                               0.005162  0.010425   \n",
      "mileage_mpg                                        1.000000  0.005649   \n",
      "age                                                0.005649  1.000000   \n",
      "...                                                     ...       ...   \n",
      "city_description_y_Patchy sleet possible          -0.000231 -0.001650   \n",
      "city_description_y_Patchy snow possible            0.001009 -0.002058   \n",
      "city_description_y_Sunny                          -0.001942 -0.016615   \n",
      "city_description_y_Thundery outbreaks possible    -0.012076 -0.006322   \n",
      "city_description_y_Torrential rain shower         -0.000231 -0.001783   \n",
      "\n",
      "                                                experience   ratings  \\\n",
      "delay                                             0.018373 -0.004410   \n",
      "truck_age                                         0.062181  0.037590   \n",
      "load_capacity_pounds                             -0.022163 -0.006435   \n",
      "mileage_mpg                                      -0.015560 -0.032029   \n",
      "age                                               0.577767  0.262869   \n",
      "...                                                    ...       ...   \n",
      "city_description_y_Patchy sleet possible         -0.010860 -0.000719   \n",
      "city_description_y_Patchy snow possible          -0.014547 -0.003202   \n",
      "city_description_y_Sunny                         -0.026196 -0.007217   \n",
      "city_description_y_Thundery outbreaks possible   -0.005469 -0.004146   \n",
      "city_description_y_Torrential rain shower        -0.000243  0.010790   \n",
      "\n",
      "                                                average_speed_mph  distance  \\\n",
      "delay                                                   -0.004152  0.312177   \n",
      "truck_age                                               -0.072343  0.015432   \n",
      "load_capacity_pounds                                     0.004986 -0.011874   \n",
      "mileage_mpg                                              0.065109 -0.003733   \n",
      "age                                                     -0.021819  0.024463   \n",
      "...                                                           ...       ...   \n",
      "city_description_y_Patchy sleet possible                 0.006173  0.007907   \n",
      "city_description_y_Patchy snow possible                  0.006625  0.008580   \n",
      "city_description_y_Sunny                                 0.011604 -0.082468   \n",
      "city_description_y_Thundery outbreaks possible          -0.001198 -0.023541   \n",
      "city_description_y_Torrential rain shower               -0.011816  0.020710   \n",
      "\n",
      "                                                average_hours  ...  \\\n",
      "delay                                                0.312191  ...   \n",
      "truck_age                                            0.015413  ...   \n",
      "load_capacity_pounds                                -0.011881  ...   \n",
      "mileage_mpg                                         -0.003714  ...   \n",
      "age                                                  0.024471  ...   \n",
      "...                                                       ...  ...   \n",
      "city_description_y_Patchy sleet possible             0.007907  ...   \n",
      "city_description_y_Patchy snow possible              0.008590  ...   \n",
      "city_description_y_Sunny                            -0.082459  ...   \n",
      "city_description_y_Thundery outbreaks possible      -0.023523  ...   \n",
      "city_description_y_Torrential rain shower            0.020710  ...   \n",
      "\n",
      "                                                city_description_y_Patchy light rain  \\\n",
      "delay                                                                      -0.010619   \n",
      "truck_age                                                                   0.002915   \n",
      "load_capacity_pounds                                                       -0.012461   \n",
      "mileage_mpg                                                                -0.012597   \n",
      "age                                                                        -0.001640   \n",
      "...                                                                              ...   \n",
      "city_description_y_Patchy sleet possible                                   -0.000435   \n",
      "city_description_y_Patchy snow possible                                    -0.001476   \n",
      "city_description_y_Sunny                                                   -0.015668   \n",
      "city_description_y_Thundery outbreaks possible                             -0.000687   \n",
      "city_description_y_Torrential rain shower                                  -0.000435   \n",
      "\n",
      "                                                city_description_y_Patchy light rain with thunder  \\\n",
      "delay                                                                                    0.008135   \n",
      "truck_age                                                                                0.005270   \n",
      "load_capacity_pounds                                                                    -0.004731   \n",
      "mileage_mpg                                                                              0.013917   \n",
      "age                                                                                      0.012403   \n",
      "...                                                                                           ...   \n",
      "city_description_y_Patchy sleet possible                                                -0.000317   \n",
      "city_description_y_Patchy snow possible                                                 -0.001077   \n",
      "city_description_y_Sunny                                                                -0.011439   \n",
      "city_description_y_Thundery outbreaks possible                                          -0.000502   \n",
      "city_description_y_Torrential rain shower                                               -0.000317   \n",
      "\n",
      "                                                city_description_y_Patchy light snow  \\\n",
      "delay                                                                       0.018291   \n",
      "truck_age                                                                   0.004348   \n",
      "load_capacity_pounds                                                        0.012103   \n",
      "mileage_mpg                                                                 0.003601   \n",
      "age                                                                         0.001820   \n",
      "...                                                                              ...   \n",
      "city_description_y_Patchy sleet possible                                   -0.001092   \n",
      "city_description_y_Patchy snow possible                                    -0.003705   \n",
      "city_description_y_Sunny                                                   -0.039345   \n",
      "city_description_y_Thundery outbreaks possible                             -0.001726   \n",
      "city_description_y_Torrential rain shower                                  -0.001092   \n",
      "\n",
      "                                                city_description_y_Patchy moderate snow  \\\n",
      "delay                                                                          0.029772   \n",
      "truck_age                                                                      0.002715   \n",
      "load_capacity_pounds                                                          -0.016941   \n",
      "mileage_mpg                                                                    0.001129   \n",
      "age                                                                            0.011880   \n",
      "...                                                                                 ...   \n",
      "city_description_y_Patchy sleet possible                                      -0.000674   \n",
      "city_description_y_Patchy snow possible                                       -0.002288   \n",
      "city_description_y_Sunny                                                      -0.024292   \n",
      "city_description_y_Thundery outbreaks possible                                -0.001066   \n",
      "city_description_y_Torrential rain shower                                     -0.000674   \n",
      "\n",
      "                                                city_description_y_Patchy rain possible  \\\n",
      "delay                                                                         -0.011488   \n",
      "truck_age                                                                     -0.003588   \n",
      "load_capacity_pounds                                                           0.012863   \n",
      "mileage_mpg                                                                    0.019420   \n",
      "age                                                                            0.006208   \n",
      "...                                                                                 ...   \n",
      "city_description_y_Patchy sleet possible                                      -0.001446   \n",
      "city_description_y_Patchy snow possible                                       -0.004908   \n",
      "city_description_y_Sunny                                                      -0.052115   \n",
      "city_description_y_Thundery outbreaks possible                                -0.002287   \n",
      "city_description_y_Torrential rain shower                                     -0.001446   \n",
      "\n",
      "                                                city_description_y_Patchy sleet possible  \\\n",
      "delay                                                                          -0.009170   \n",
      "truck_age                                                                      -0.006408   \n",
      "load_capacity_pounds                                                            0.007594   \n",
      "mileage_mpg                                                                    -0.000231   \n",
      "age                                                                            -0.001650   \n",
      "...                                                                                  ...   \n",
      "city_description_y_Patchy sleet possible                                        1.000000   \n",
      "city_description_y_Patchy snow possible                                        -0.000539   \n",
      "city_description_y_Sunny                                                       -0.005718   \n",
      "city_description_y_Thundery outbreaks possible                                 -0.000251   \n",
      "city_description_y_Torrential rain shower                                      -0.000159   \n",
      "\n",
      "                                                city_description_y_Patchy snow possible  \\\n",
      "delay                                                                         -0.011591   \n",
      "truck_age                                                                     -0.011690   \n",
      "load_capacity_pounds                                                           0.003852   \n",
      "mileage_mpg                                                                    0.001009   \n",
      "age                                                                           -0.002058   \n",
      "...                                                                                 ...   \n",
      "city_description_y_Patchy sleet possible                                      -0.000539   \n",
      "city_description_y_Patchy snow possible                                        1.000000   \n",
      "city_description_y_Sunny                                                      -0.019407   \n",
      "city_description_y_Thundery outbreaks possible                                -0.000852   \n",
      "city_description_y_Torrential rain shower                                     -0.000539   \n",
      "\n",
      "                                                city_description_y_Sunny  \\\n",
      "delay                                                          -0.073139   \n",
      "truck_age                                                      -0.005352   \n",
      "load_capacity_pounds                                           -0.005263   \n",
      "mileage_mpg                                                    -0.001942   \n",
      "age                                                            -0.016615   \n",
      "...                                                                  ...   \n",
      "city_description_y_Patchy sleet possible                       -0.005718   \n",
      "city_description_y_Patchy snow possible                        -0.019407   \n",
      "city_description_y_Sunny                                        1.000000   \n",
      "city_description_y_Thundery outbreaks possible                 -0.009042   \n",
      "city_description_y_Torrential rain shower                      -0.005718   \n",
      "\n",
      "                                                city_description_y_Thundery outbreaks possible  \\\n",
      "delay                                                                                 0.018989   \n",
      "truck_age                                                                            -0.001892   \n",
      "load_capacity_pounds                                                                  0.000448   \n",
      "mileage_mpg                                                                          -0.012076   \n",
      "age                                                                                  -0.006322   \n",
      "...                                                                                        ...   \n",
      "city_description_y_Patchy sleet possible                                             -0.000251   \n",
      "city_description_y_Patchy snow possible                                              -0.000852   \n",
      "city_description_y_Sunny                                                             -0.009042   \n",
      "city_description_y_Thundery outbreaks possible                                        1.000000   \n",
      "city_description_y_Torrential rain shower                                            -0.000251   \n",
      "\n",
      "                                                city_description_y_Torrential rain shower  \n",
      "delay                                                                           -0.009170  \n",
      "truck_age                                                                       -0.004164  \n",
      "load_capacity_pounds                                                             0.014279  \n",
      "mileage_mpg                                                                     -0.000231  \n",
      "age                                                                             -0.001783  \n",
      "...                                                                                   ...  \n",
      "city_description_y_Patchy sleet possible                                        -0.000159  \n",
      "city_description_y_Patchy snow possible                                         -0.000539  \n",
      "city_description_y_Sunny                                                        -0.005718  \n",
      "city_description_y_Thundery outbreaks possible                                  -0.000251  \n",
      "city_description_y_Torrential rain shower                                        1.000000  \n",
      "\n",
      "[117 rows x 117 columns]\n"
     ]
    }
   ],
   "source": [
    "spearman_correlation = df.corr(method='spearman') \n",
    "print(spearman_correlation)"
   ]
  }
 ],
 "metadata": {
  "kernelspec": {
   "display_name": "mlEnv",
   "language": "python",
   "name": "python3"
  },
  "language_info": {
   "codemirror_mode": {
    "name": "ipython",
    "version": 3
   },
   "file_extension": ".py",
   "mimetype": "text/x-python",
   "name": "python",
   "nbconvert_exporter": "python",
   "pygments_lexer": "ipython3",
   "version": "3.12.2"
  }
 },
 "nbformat": 4,
 "nbformat_minor": 2
}
