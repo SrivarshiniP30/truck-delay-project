{
 "cells": [
  {
   "cell_type": "code",
   "execution_count": 243,
   "metadata": {},
   "outputs": [],
   "source": [
    "import pandas as pd\n",
    "import numpy as np\n",
    "import matplotlib.pyplot as plt\n",
    "import psycopg2 \n",
    "import seaborn as sns\n",
    "from sqlalchemy import create_engine, inspect\n"
   ]
  },
  {
   "cell_type": "code",
   "execution_count": 244,
   "metadata": {},
   "outputs": [
    {
     "name": "stdout",
     "output_type": "stream",
     "text": [
      "Exported city_weather \n",
      "Exported drivers_table \n",
      "Exported routes_table \n",
      "Exported routes_weather \n",
      "Exported traffic_table \n",
      "Exported truck_schedule_table \n",
      "Exported trucks_table \n"
     ]
    }
   ],
   "source": [
    "# PostgreSQL credentials\n",
    "DB_HOST = \"localhost\"  \n",
    "DB_PORT = \"5432\"\n",
    "DB_NAME = \"truck_data_db\"\n",
    "DB_USER = \"postgres\"\n",
    "DB_PASSWORD = \"saibaba\"\n",
    "\n",
    "# Create engine for PostgreSQL connection\n",
    "engine = create_engine(f'postgresql://{DB_USER}:{DB_PASSWORD}@{DB_HOST}:{DB_PORT}/{DB_NAME}')\n",
    "\n",
    "# Use SQLAlchemy Inspector to get table names dynamically\n",
    "inspector = inspect(engine)\n",
    "tables = inspector.get_table_names()\n",
    "\n",
    "dataframes = {}\n",
    "\n",
    "# Load each table into a pandas DataFrame\n",
    "for table in tables:\n",
    "    # Use pandas to read the table into a DataFrame\n",
    "    dataframes[table] = pd.read_sql_table(table, con=engine)\n",
    "\n",
    "    print(f\"Exported {table} \")"
   ]
  },
  {
   "cell_type": "code",
   "execution_count": null,
   "metadata": {},
   "outputs": [],
   "source": [
    "print(\"truck_schedule_table: \",dataframes['truck_schedule_table'].columns)\n",
    "print(\"trucks_table: \",dataframes['trucks_table'].columns)\n",
    "\n",
    "print(\"drivers_table: \",dataframes['drivers_table'].columns)\n",
    "\n",
    "print(\"routes_table: \",dataframes['routes_table'].columns)\n",
    "\n",
    "print(\"routes_weather: \",dataframes['routes_weather'].columns)\n",
    "\n",
    "print(\"traffic_table: \",dataframes['traffic_table'].columns)\n",
    "\n",
    "print(\"city_weather: \",dataframes['city_weather'].columns)\n",
    "\n",
    "\n"
   ]
  },
  {
   "cell_type": "markdown",
   "metadata": {},
   "source": [
    "Merging tables:"
   ]
  },
  {
   "cell_type": "code",
   "execution_count": 245,
   "metadata": {},
   "outputs": [
    {
     "name": "stdout",
     "output_type": "stream",
     "text": [
      "<class 'pandas.core.frame.DataFrame'>\n",
      "RangeIndex: 12308 entries, 0 to 12307\n",
      "Data columns (total 9 columns):\n",
      " #   Column                Non-Null Count  Dtype  \n",
      "---  ------                --------------  -----  \n",
      " 0   truck_id              12308 non-null  int64  \n",
      " 1   route_id              12308 non-null  object \n",
      " 2   departure_date        12308 non-null  object \n",
      " 3   estimated_arrival     12308 non-null  object \n",
      " 4   delay                 12308 non-null  int64  \n",
      " 5   truck_age             12308 non-null  int64  \n",
      " 6   load_capacity_pounds  11704 non-null  float64\n",
      " 7   mileage_mpg           12308 non-null  int64  \n",
      " 8   fuel_type             11917 non-null  object \n",
      "dtypes: float64(1), int64(4), object(4)\n",
      "memory usage: 865.5+ KB\n"
     ]
    }
   ],
   "source": [
    "df = pd.merge(dataframes['truck_schedule_table'],dataframes['trucks_table'],on='truck_id',how='left')\n",
    "df.info()"
   ]
  },
  {
   "cell_type": "code",
   "execution_count": 246,
   "metadata": {},
   "outputs": [
    {
     "name": "stdout",
     "output_type": "stream",
     "text": [
      "<class 'pandas.core.frame.DataFrame'>\n",
      "RangeIndex: 12308 entries, 0 to 12307\n",
      "Data columns (total 18 columns):\n",
      " #   Column                Non-Null Count  Dtype  \n",
      "---  ------                --------------  -----  \n",
      " 0   truck_id              12308 non-null  int64  \n",
      " 1   route_id              12308 non-null  object \n",
      " 2   departure_date        12308 non-null  object \n",
      " 3   estimated_arrival     12308 non-null  object \n",
      " 4   delay                 12308 non-null  int64  \n",
      " 5   truck_age             12308 non-null  int64  \n",
      " 6   load_capacity_pounds  11704 non-null  float64\n",
      " 7   mileage_mpg           12308 non-null  int64  \n",
      " 8   fuel_type             11917 non-null  object \n",
      " 9   driver_id             12308 non-null  object \n",
      " 10  name                  12308 non-null  object \n",
      " 11  gender                12074 non-null  object \n",
      " 12  age                   12308 non-null  int64  \n",
      " 13  experience            12308 non-null  int64  \n",
      " 14  driving_style         11831 non-null  object \n",
      " 15  ratings               12308 non-null  int64  \n",
      " 16  vehicle_no            12308 non-null  int64  \n",
      " 17  average_speed_mph     12308 non-null  float64\n",
      "dtypes: float64(2), int64(8), object(8)\n",
      "memory usage: 1.7+ MB\n"
     ]
    }
   ],
   "source": [
    "df = pd.merge(df,dataframes['drivers_table'],left_on=\"truck_id\", right_on=\"vehicle_no\",how='left')\n",
    "df.info()"
   ]
  },
  {
   "cell_type": "code",
   "execution_count": 247,
   "metadata": {},
   "outputs": [
    {
     "name": "stdout",
     "output_type": "stream",
     "text": [
      "<class 'pandas.core.frame.DataFrame'>\n",
      "RangeIndex: 12308 entries, 0 to 12307\n",
      "Data columns (total 22 columns):\n",
      " #   Column                Non-Null Count  Dtype  \n",
      "---  ------                --------------  -----  \n",
      " 0   truck_id              12308 non-null  int64  \n",
      " 1   route_id              12308 non-null  object \n",
      " 2   departure_date        12308 non-null  object \n",
      " 3   estimated_arrival     12308 non-null  object \n",
      " 4   delay                 12308 non-null  int64  \n",
      " 5   truck_age             12308 non-null  int64  \n",
      " 6   load_capacity_pounds  11704 non-null  float64\n",
      " 7   mileage_mpg           12308 non-null  int64  \n",
      " 8   fuel_type             11917 non-null  object \n",
      " 9   driver_id             12308 non-null  object \n",
      " 10  name                  12308 non-null  object \n",
      " 11  gender                12074 non-null  object \n",
      " 12  age                   12308 non-null  int64  \n",
      " 13  experience            12308 non-null  int64  \n",
      " 14  driving_style         11831 non-null  object \n",
      " 15  ratings               12308 non-null  int64  \n",
      " 16  vehicle_no            12308 non-null  int64  \n",
      " 17  average_speed_mph     12308 non-null  float64\n",
      " 18  origin_id             12308 non-null  object \n",
      " 19  destination_id        12308 non-null  object \n",
      " 20  distance              12308 non-null  float64\n",
      " 21  average_hours         12308 non-null  float64\n",
      "dtypes: float64(4), int64(8), object(10)\n",
      "memory usage: 2.1+ MB\n"
     ]
    }
   ],
   "source": [
    "df = pd.merge(df,dataframes['routes_table'],on='route_id',how='left')\n",
    "df.info()"
   ]
  },
  {
   "cell_type": "markdown",
   "metadata": {},
   "source": [
    "routes_weather table merging"
   ]
  },
  {
   "cell_type": "code",
   "execution_count": 248,
   "metadata": {},
   "outputs": [],
   "source": [
    "df['departure_date'] = pd.to_datetime(df['departure_date'], errors='coerce')\n",
    "dataframes['routes_weather']['Date'] = pd.to_datetime(dataframes['routes_weather']['Date'], errors='coerce')\n"
   ]
  },
  {
   "cell_type": "code",
   "execution_count": 249,
   "metadata": {},
   "outputs": [
    {
     "name": "stdout",
     "output_type": "stream",
     "text": [
      "<class 'pandas.core.frame.DataFrame'>\n",
      "RangeIndex: 12308 entries, 0 to 12307\n",
      "Data columns (total 34 columns):\n",
      " #   Column                Non-Null Count  Dtype         \n",
      "---  ------                --------------  -----         \n",
      " 0   truck_id              12308 non-null  int64         \n",
      " 1   route_id              12308 non-null  object        \n",
      " 2   departure_date        12308 non-null  datetime64[ns]\n",
      " 3   estimated_arrival     12308 non-null  object        \n",
      " 4   delay                 12308 non-null  int64         \n",
      " 5   truck_age             12308 non-null  int64         \n",
      " 6   load_capacity_pounds  11704 non-null  float64       \n",
      " 7   mileage_mpg           12308 non-null  int64         \n",
      " 8   fuel_type             11917 non-null  object        \n",
      " 9   driver_id             12308 non-null  object        \n",
      " 10  name                  12308 non-null  object        \n",
      " 11  gender                12074 non-null  object        \n",
      " 12  age                   12308 non-null  int64         \n",
      " 13  experience            12308 non-null  int64         \n",
      " 14  driving_style         11831 non-null  object        \n",
      " 15  ratings               12308 non-null  int64         \n",
      " 16  vehicle_no            12308 non-null  int64         \n",
      " 17  average_speed_mph     12308 non-null  float64       \n",
      " 18  origin_id             12308 non-null  object        \n",
      " 19  destination_id        12308 non-null  object        \n",
      " 20  distance              12308 non-null  float64       \n",
      " 21  average_hours         12308 non-null  float64       \n",
      " 22  Date                  12308 non-null  datetime64[ns]\n",
      " 23  temp                  12308 non-null  int64         \n",
      " 24  wind_speed            12308 non-null  int64         \n",
      " 25  description           12308 non-null  object        \n",
      " 26  precip                12308 non-null  float64       \n",
      " 27  humidity              12308 non-null  int64         \n",
      " 28  visibility            12308 non-null  int64         \n",
      " 29  pressure              12308 non-null  int64         \n",
      " 30  chanceofrain          12308 non-null  int64         \n",
      " 31  chanceoffog           12308 non-null  int64         \n",
      " 32  chanceofsnow          12308 non-null  int64         \n",
      " 33  chanceofthunder       12308 non-null  int64         \n",
      "dtypes: datetime64[ns](2), float64(5), int64(17), object(10)\n",
      "memory usage: 3.2+ MB\n"
     ]
    }
   ],
   "source": [
    "df.sort_values(by='departure_date', inplace=True)\n",
    "dataframes['routes_weather'].sort_values(by='Date', inplace=True)\n",
    "df = pd.merge_asof(\n",
    "    df,\n",
    "    dataframes['routes_weather'],\n",
    "    by='route_id',                 # Ensure route_id is the same on both DataFrames\n",
    "    left_on='departure_date',\n",
    "    right_on='Date',\n",
    "    direction='backward'           # Merge with backward direction\n",
    ")\n",
    "\n",
    "# Check the result\n",
    "df.info()\n"
   ]
  },
  {
   "cell_type": "markdown",
   "metadata": {},
   "source": [
    "city_weather merging "
   ]
  },
  {
   "cell_type": "code",
   "execution_count": null,
   "metadata": {},
   "outputs": [],
   "source": [
    "dataframes['city_weather'] = dataframes['city_weather'].add_prefix('city_')\n",
    "dataframes['city_weather'].info()\n",
    "\n"
   ]
  },
  {
   "cell_type": "code",
   "execution_count": 252,
   "metadata": {},
   "outputs": [],
   "source": [
    "df['Date'] = pd.to_datetime(df['Date'], errors='coerce')\n",
    "dataframes['city_weather']['city_date'] = pd.to_datetime(dataframes['city_weather']['city_date'], errors='coerce')\n",
    "\n",
    "# Extract only the date part\n",
    "df['Date'] = df['Date'].dt.date\n",
    "dataframes['city_weather']['city_date'] = dataframes['city_weather']['city_date'].dt.date"
   ]
  },
  {
   "cell_type": "code",
   "execution_count": 256,
   "metadata": {},
   "outputs": [],
   "source": [
    "# Filter the city_weather DataFrame where the hour column equals 700\n",
    "filtered_city_weather = dataframes['city_weather'][dataframes['city_weather']['city_hour'] == 700]\n",
    "filtered_city_weather = filtered_city_weather.drop_duplicates(subset=['city_city_id', 'city_date'])\n",
    "\n",
    "# Perform the merge\n",
    "df = pd.merge(\n",
    "    df,\n",
    "    filtered_city_weather,\n",
    "    left_on=['origin_id', 'Date'],\n",
    "    right_on=['city_city_id', 'city_date'],\n",
    "    how='left'\n",
    ")\n",
    "print(df.info())\n"
   ]
  },
  {
   "cell_type": "code",
   "execution_count": 258,
   "metadata": {},
   "outputs": [],
   "source": [
    "dataframes['city_weather']['combined_datetime'] = pd.to_datetime(dataframes['city_weather']['city_date'].astype(str) + ' ' + dataframes['city_weather']['city_hour'].astype(str).str.zfill(4), format='%Y-%m-%d %H%M')"
   ]
  },
  {
   "cell_type": "code",
   "execution_count": 260,
   "metadata": {},
   "outputs": [
    {
     "name": "stdout",
     "output_type": "stream",
     "text": [
      "0       2019-01-01 13:13:12\n",
      "1       2019-01-05 17:08:24\n",
      "2       2019-01-05 23:11:24\n",
      "3       2019-01-05 23:18:36\n",
      "4       2019-01-06 21:06:00\n",
      "                ...        \n",
      "12303   2019-02-13 06:15:36\n",
      "12304   2019-02-12 21:28:12\n",
      "12305   2019-02-12 15:25:12\n",
      "12306   2019-02-12 09:15:36\n",
      "12307   2019-02-13 01:06:36\n",
      "Name: estimated_arrival, Length: 12308, dtype: datetime64[ns]\n"
     ]
    }
   ],
   "source": [
    "df['estimated_arrival'] = pd.to_datetime(df['estimated_arrival'],errors='coerce')\n",
    "df['estimated_arrival'] = df['estimated_arrival'].dt.round('H')"
   ]
  },
  {
   "cell_type": "code",
   "execution_count": 262,
   "metadata": {},
   "outputs": [
    {
     "name": "stdout",
     "output_type": "stream",
     "text": [
      "<class 'pandas.core.frame.DataFrame'>\n",
      "RangeIndex: 12602 entries, 0 to 12601\n",
      "Data columns (total 63 columns):\n",
      " #   Column                  Non-Null Count  Dtype         \n",
      "---  ------                  --------------  -----         \n",
      " 0   truck_id                12602 non-null  int64         \n",
      " 1   route_id                12602 non-null  object        \n",
      " 2   departure_date          12602 non-null  datetime64[ns]\n",
      " 3   estimated_arrival       12602 non-null  datetime64[ns]\n",
      " 4   delay                   12602 non-null  int64         \n",
      " 5   truck_age               12602 non-null  int64         \n",
      " 6   load_capacity_pounds    11980 non-null  float64       \n",
      " 7   mileage_mpg             12602 non-null  int64         \n",
      " 8   fuel_type               12200 non-null  object        \n",
      " 9   driver_id               12602 non-null  object        \n",
      " 10  name                    12602 non-null  object        \n",
      " 11  gender                  12360 non-null  object        \n",
      " 12  age                     12602 non-null  int64         \n",
      " 13  experience              12602 non-null  int64         \n",
      " 14  driving_style           12106 non-null  object        \n",
      " 15  ratings                 12602 non-null  int64         \n",
      " 16  vehicle_no              12602 non-null  int64         \n",
      " 17  average_speed_mph       12602 non-null  float64       \n",
      " 18  origin_id               12602 non-null  object        \n",
      " 19  destination_id          12602 non-null  object        \n",
      " 20  distance                12602 non-null  float64       \n",
      " 21  average_hours           12602 non-null  float64       \n",
      " 22  Date                    12602 non-null  object        \n",
      " 23  temp                    12602 non-null  int64         \n",
      " 24  wind_speed              12602 non-null  int64         \n",
      " 25  description             12602 non-null  object        \n",
      " 26  precip                  12602 non-null  float64       \n",
      " 27  humidity                12602 non-null  int64         \n",
      " 28  visibility              12602 non-null  int64         \n",
      " 29  pressure                12602 non-null  int64         \n",
      " 30  chanceofrain            12602 non-null  int64         \n",
      " 31  chanceoffog             12602 non-null  int64         \n",
      " 32  chanceofsnow            12602 non-null  int64         \n",
      " 33  chanceofthunder         12602 non-null  int64         \n",
      " 34  city_city_id_x          12598 non-null  object        \n",
      " 35  city_date_x             12598 non-null  object        \n",
      " 36  city_hour_x             12598 non-null  float64       \n",
      " 37  city_temp_x             12598 non-null  float64       \n",
      " 38  city_wind_speed_x       12598 non-null  float64       \n",
      " 39  city_description_x      12598 non-null  object        \n",
      " 40  city_precip_x           12598 non-null  float64       \n",
      " 41  city_humidity_x         12598 non-null  float64       \n",
      " 42  city_visibility_x       12598 non-null  float64       \n",
      " 43  city_pressure_x         12598 non-null  float64       \n",
      " 44  city_chanceofrain_x     12598 non-null  float64       \n",
      " 45  city_chanceoffog_x      12598 non-null  float64       \n",
      " 46  city_chanceofsnow_x     12598 non-null  float64       \n",
      " 47  city_chanceofthunder_x  12598 non-null  float64       \n",
      " 48  city_city_id_y          12602 non-null  object        \n",
      " 49  city_date_y             12602 non-null  object        \n",
      " 50  city_hour_y             12602 non-null  int64         \n",
      " 51  city_temp_y             12602 non-null  int64         \n",
      " 52  city_wind_speed_y       12602 non-null  int64         \n",
      " 53  city_description_y      12602 non-null  object        \n",
      " 54  city_precip_y           12602 non-null  float64       \n",
      " 55  city_humidity_y         12602 non-null  int64         \n",
      " 56  city_visibility_y       12602 non-null  int64         \n",
      " 57  city_pressure_y         12602 non-null  int64         \n",
      " 58  city_chanceofrain_y     12602 non-null  int64         \n",
      " 59  city_chanceoffog_y      12602 non-null  int64         \n",
      " 60  city_chanceofsnow_y     12602 non-null  int64         \n",
      " 61  city_chanceofthunder_y  12602 non-null  int64         \n",
      " 62  combined_datetime       12602 non-null  datetime64[ns]\n",
      "dtypes: datetime64[ns](3), float64(17), int64(27), object(16)\n",
      "memory usage: 6.1+ MB\n"
     ]
    }
   ],
   "source": [
    "# Perform the merge\n",
    "df = pd.merge(\n",
    "    df,\n",
    "    dataframes['city_weather'],\n",
    "    left_on=['destination_id', 'estimated_arrival'],\n",
    "    right_on=['city_city_id', 'combined_datetime'],\n",
    "    how='left'\n",
    ")\n",
    "df.info()"
   ]
  },
  {
   "cell_type": "markdown",
   "metadata": {},
   "source": [
    "Traffic_table merging:"
   ]
  },
  {
   "cell_type": "code",
   "execution_count": 235,
   "metadata": {},
   "outputs": [
    {
     "name": "stdout",
     "output_type": "stream",
     "text": [
      "<class 'pandas.core.frame.DataFrame'>\n",
      "RangeIndex: 2597913 entries, 0 to 2597912\n",
      "Data columns (total 5 columns):\n",
      " #   Column          Dtype         \n",
      "---  ------          -----         \n",
      " 0   route_id        object        \n",
      " 1   date            datetime64[ns]\n",
      " 2   hour            int64         \n",
      " 3   no_of_vehicles  float64       \n",
      " 4   accident        int64         \n",
      "dtypes: datetime64[ns](1), float64(1), int64(2), object(1)\n",
      "memory usage: 99.1+ MB\n"
     ]
    }
   ],
   "source": [
    "dataframes['traffic_table'].info()"
   ]
  },
  {
   "cell_type": "code",
   "execution_count": null,
   "metadata": {},
   "outputs": [
    {
     "name": "stdout",
     "output_type": "stream",
     "text": [
      "0         2019-01-01 00:00:00\n",
      "1         2019-01-01 01:00:00\n",
      "2         2019-01-01 02:00:00\n",
      "3         2019-01-01 03:00:00\n",
      "4         2019-01-01 04:00:00\n",
      "                  ...        \n",
      "2597908   2019-02-15 19:00:00\n",
      "2597909   2019-02-15 20:00:00\n",
      "2597910   2019-02-15 21:00:00\n",
      "2597911   2019-02-15 22:00:00\n",
      "2597912   2019-02-15 23:00:00\n",
      "Name: combined_datetime, Length: 2597913, dtype: datetime64[ns]\n",
      "0       2019-01-01 07:00:00\n",
      "1       2019-01-01 07:00:00\n",
      "2       2019-01-01 07:00:00\n",
      "3       2019-01-01 07:00:00\n",
      "4       2019-01-01 07:00:00\n",
      "                ...        \n",
      "12597   2019-02-12 07:00:00\n",
      "12598   2019-02-12 07:00:00\n",
      "12599   2019-02-12 07:00:00\n",
      "12600   2019-02-12 07:00:00\n",
      "12601   2019-02-12 07:00:00\n",
      "Name: departure_date, Length: 12602, dtype: datetime64[ns]\n"
     ]
    }
   ],
   "source": [
    "dataframes['traffic_table']['combined_datetime'] = pd.to_datetime(dataframes['traffic_table']['date'].astype(str) + ' ' + dataframes['traffic_table']['hour'].astype(str).str.zfill(4), format='%Y-%m-%d %H%M')\n",
    "\n",
    "print(dataframes['traffic_table']['combined_datetime'])\n",
    "print(df['departure_date'])"
   ]
  },
  {
   "cell_type": "code",
   "execution_count": null,
   "metadata": {},
   "outputs": [
    {
     "name": "stdout",
     "output_type": "stream",
     "text": [
      "<class 'pandas.core.frame.DataFrame'>\n",
      "RangeIndex: 12607 entries, 0 to 12606\n",
      "Data columns (total 68 columns):\n",
      " #   Column                  Non-Null Count  Dtype         \n",
      "---  ------                  --------------  -----         \n",
      " 0   truck_id                12607 non-null  int64         \n",
      " 1   route_id                12607 non-null  object        \n",
      " 2   departure_date          12607 non-null  datetime64[ns]\n",
      " 3   estimated_arrival       12607 non-null  datetime64[ns]\n",
      " 4   delay                   12607 non-null  int64         \n",
      " 5   truck_age               12607 non-null  int64         \n",
      " 6   load_capacity_pounds    11985 non-null  float64       \n",
      " 7   mileage_mpg             12607 non-null  int64         \n",
      " 8   fuel_type               12205 non-null  object        \n",
      " 9   driver_id               12607 non-null  object        \n",
      " 10  name                    12607 non-null  object        \n",
      " 11  gender                  12365 non-null  object        \n",
      " 12  age                     12607 non-null  int64         \n",
      " 13  experience              12607 non-null  int64         \n",
      " 14  driving_style           12111 non-null  object        \n",
      " 15  ratings                 12607 non-null  int64         \n",
      " 16  vehicle_no              12607 non-null  int64         \n",
      " 17  average_speed_mph       12607 non-null  float64       \n",
      " 18  origin_id               12607 non-null  object        \n",
      " 19  destination_id          12607 non-null  object        \n",
      " 20  distance                12607 non-null  float64       \n",
      " 21  average_hours           12607 non-null  float64       \n",
      " 22  Date                    12607 non-null  object        \n",
      " 23  temp                    12607 non-null  int64         \n",
      " 24  wind_speed              12607 non-null  int64         \n",
      " 25  description             12607 non-null  object        \n",
      " 26  precip                  12607 non-null  float64       \n",
      " 27  humidity                12607 non-null  int64         \n",
      " 28  visibility              12607 non-null  int64         \n",
      " 29  pressure                12607 non-null  int64         \n",
      " 30  chanceofrain            12607 non-null  int64         \n",
      " 31  chanceoffog             12607 non-null  int64         \n",
      " 32  chanceofsnow            12607 non-null  int64         \n",
      " 33  chanceofthunder         12607 non-null  int64         \n",
      " 34  city_city_id_x          12603 non-null  object        \n",
      " 35  city_date_x             12603 non-null  object        \n",
      " 36  city_hour_x             12603 non-null  float64       \n",
      " 37  city_temp_x             12603 non-null  float64       \n",
      " 38  city_wind_speed_x       12603 non-null  float64       \n",
      " 39  city_description_x      12603 non-null  object        \n",
      " 40  city_precip_x           12603 non-null  float64       \n",
      " 41  city_humidity_x         12603 non-null  float64       \n",
      " 42  city_visibility_x       12603 non-null  float64       \n",
      " 43  city_pressure_x         12603 non-null  float64       \n",
      " 44  city_chanceofrain_x     12603 non-null  float64       \n",
      " 45  city_chanceoffog_x      12603 non-null  float64       \n",
      " 46  city_chanceofsnow_x     12603 non-null  float64       \n",
      " 47  city_chanceofthunder_x  12603 non-null  float64       \n",
      " 48  city_city_id_y          12607 non-null  object        \n",
      " 49  city_date_y             12607 non-null  object        \n",
      " 50  city_hour_y             12607 non-null  int64         \n",
      " 51  city_temp_y             12607 non-null  int64         \n",
      " 52  city_wind_speed_y       12607 non-null  int64         \n",
      " 53  city_description_y      12607 non-null  object        \n",
      " 54  city_precip_y           12607 non-null  float64       \n",
      " 55  city_humidity_y         12607 non-null  int64         \n",
      " 56  city_visibility_y       12607 non-null  int64         \n",
      " 57  city_pressure_y         12607 non-null  int64         \n",
      " 58  city_chanceofrain_y     12607 non-null  int64         \n",
      " 59  city_chanceoffog_y      12607 non-null  int64         \n",
      " 60  city_chanceofsnow_y     12607 non-null  int64         \n",
      " 61  city_chanceofthunder_y  12607 non-null  int64         \n",
      " 62  combined_datetime_x     12607 non-null  datetime64[ns]\n",
      " 63  date                    12607 non-null  object        \n",
      " 64  hour                    12607 non-null  int64         \n",
      " 65  no_of_vehicles          12603 non-null  float64       \n",
      " 66  accident                12607 non-null  int64         \n",
      " 67  combined_datetime_y     12607 non-null  datetime64[ns]\n",
      "dtypes: datetime64[ns](4), float64(18), int64(29), object(17)\n",
      "memory usage: 6.5+ MB\n"
     ]
    }
   ],
   "source": [
    "df = pd.merge(df, \n",
    "              dataframes['traffic_table'], \n",
    "              left_on=['route_id', 'departure_date'],\n",
    "              right_on=['route_id','combined_datetime'],\n",
    "              how='left')  \n",
    "\n",
    "df.info()\n"
   ]
  },
  {
   "cell_type": "code",
   "execution_count": 267,
   "metadata": {},
   "outputs": [],
   "source": [
    "df.to_csv('combineddf.csv', index=False)"
   ]
  },
  {
   "cell_type": "markdown",
   "metadata": {},
   "source": [
    "DONE"
   ]
  }
 ],
 "metadata": {
  "kernelspec": {
   "display_name": "mlEnv",
   "language": "python",
   "name": "python3"
  },
  "language_info": {
   "codemirror_mode": {
    "name": "ipython",
    "version": 3
   },
   "file_extension": ".py",
   "mimetype": "text/x-python",
   "name": "python",
   "nbconvert_exporter": "python",
   "pygments_lexer": "ipython3",
   "version": "3.12.2"
  }
 },
 "nbformat": 4,
 "nbformat_minor": 2
}
